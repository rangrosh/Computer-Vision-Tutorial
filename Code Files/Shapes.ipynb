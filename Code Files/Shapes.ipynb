{
 "cells": [
  {
   "cell_type": "code",
   "execution_count": 5,
   "metadata": {},
   "outputs": [
    {
     "name": "stdout",
     "output_type": "stream",
     "text": [
      "[0 0 0]\n"
     ]
    }
   ],
   "source": [
    "import cv2\n",
    "import numpy as np\n",
    "\n",
    "img = np.zeros((512,512,3),np.uint8)\n",
    "cv2.line(img,(0,100),(100,100),(0,0,255),2) #target image,start coord, dest coord, bgr, thickness\n",
    "cv2.rectangle(img,(50,100),(100,150),(0,255,255),1) #coordinates are starting point and opposite diagonal\n",
    "cv2.circle(img,(150,40),30,(0,0,255),-1) #the centre, radius #setting thickness as -1 fills the shape\n",
    "cv2.ellipse(img,(200,250),(50,20),0,0,360,(127,127,127),-1) #image, centerCoordinates, axesLength, angle, startAngle, endAngle, color [, thickness\n",
    "\n",
    "points = np.array([[300,0],[350,275],[365,290],[400,450],[420,320]])\n",
    "points = points.reshape(-1,1,2)\n",
    "cv2.polylines(img,[points],True,(255,255,0))\n",
    "\n",
    "text = 'Roshan'\n",
    "cv2.putText(img, text, (0,450), cv2.FONT_HERSHEY_SIMPLEX, 2, (127,127,0)) #coordinates, font, size, color\n",
    "\n",
    "\n",
    "cv2.imshow('Shape',img)\n",
    "cv2.waitKey(0)\n",
    "cv2.destroyAllWindows()"
   ]
  }
 ],
 "metadata": {
  "kernelspec": {
   "display_name": "Python 3",
   "language": "python",
   "name": "python3"
  },
  "language_info": {
   "codemirror_mode": {
    "name": "ipython",
    "version": 3
   },
   "file_extension": ".py",
   "mimetype": "text/x-python",
   "name": "python",
   "nbconvert_exporter": "python",
   "pygments_lexer": "ipython3",
   "version": "3.7.4"
  }
 },
 "nbformat": 4,
 "nbformat_minor": 4
}
