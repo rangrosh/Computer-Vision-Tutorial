{
 "cells": [
  {
   "cell_type": "code",
   "execution_count": 30,
   "metadata": {},
   "outputs": [
    {
     "name": "stdout",
     "output_type": "stream",
     "text": [
      "The resolution is : \n",
      "The width = 640.0\n",
      "The height = 480.0\n",
      "The resolution is : \n",
      "The width = 1280.0\n",
      "The height = 720.0\n",
      "30.0\n"
     ]
    }
   ],
   "source": [
    "import cv2\n",
    "\n",
    "cap = cv2.VideoCapture(0)\n",
    "windowName = 'Live Video Feed'\n",
    "cv2.namedWindow(windowName)\n",
    "\n",
    "\n",
    "print('The resolution is : ')\n",
    "print('The width = ' + str(cap.get(3)))\n",
    "print('The height = ' + str(cap.get(4)))\n",
    "\n",
    "cap.set(3, 1600)\n",
    "cap.set(4, 900)  #The resolution will be more but fps will be less\n",
    "print('The resolution is : ')\n",
    "print('The width = ' + str(cap.get(3)))\n",
    "print('The height = ' + str(cap.get(4)))\n",
    "\n",
    "\n",
    "\n",
    "if cap.isOpened():\n",
    "    ret, frame = cap.read()\n",
    "else:\n",
    "    ret = False\n",
    "\n",
    "while ret:\n",
    "    \n",
    "    ret,frame = cap.read()\n",
    "    \n",
    "    output = cv2.cvtColor(frame, cv2.COLOR_BGR2GRAY)\n",
    "    cv2.imshow('Gray' , output)\n",
    "    \n",
    "    cv2.imshow(windowName, frame)\n",
    "    \n",
    "    if cv2.waitKey(1) == 27:\n",
    "        break\n",
    "    #print(cap.get(5)) #fps\n",
    "    \n",
    "    \n",
    "cv2.destroyAllWindows()\n",
    "cap.release()"
   ]
  },
  {
   "cell_type": "markdown",
   "metadata": {},
   "source": [
    "## To check Properties of Video Feed"
   ]
  },
  {
   "cell_type": "code",
   "execution_count": null,
   "metadata": {},
   "outputs": [],
   "source": [
    "# 0. CV_CAP_PROP_POS_MSEC Current position of the video file in milliseconds.\n",
    "# 1. CV_CAP_PROP_POS_FRAMES 0-based index of the frame to be decoded/captured next.\n",
    "# 2. CV_CAP_PROP_POS_AVI_RATIO Relative position of the video file\n",
    "# 3. CV_CAP_PROP_FRAME_WIDTH Width of the frames in the video stream.\n",
    "# 4. CV_CAP_PROP_FRAME_HEIGHT Height of the frames in the video stream.\n",
    "# 5. CV_CAP_PROP_FPS Frame rate.\n"
   ]
  }
 ],
 "metadata": {
  "kernelspec": {
   "display_name": "Python 3",
   "language": "python",
   "name": "python3"
  },
  "language_info": {
   "codemirror_mode": {
    "name": "ipython",
    "version": 3
   },
   "file_extension": ".py",
   "mimetype": "text/x-python",
   "name": "python",
   "nbconvert_exporter": "python",
   "pygments_lexer": "ipython3",
   "version": "3.7.4"
  }
 },
 "nbformat": 4,
 "nbformat_minor": 4
}
