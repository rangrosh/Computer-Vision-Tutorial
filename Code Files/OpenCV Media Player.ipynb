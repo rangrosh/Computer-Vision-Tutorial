{
 "cells": [
  {
   "cell_type": "code",
   "execution_count": 20,
   "metadata": {},
   "outputs": [],
   "source": [
    "import cv2\n",
    "filename = \"C:\\\\Users\\\\rangr\\\\Desktop\\\\Image Processing\\\\Output\\\\name.avi\"\n",
    "cap = cv2.VideoCapture(filename)\n",
    "windowName = 'Video Player'\n",
    "cv2.namedWindow(windowName)\n",
    "\n",
    "ret = True\n",
    "while ret:\n",
    "    ret, frame = cap.read()\n",
    "#     print(ret)\n",
    "    if ret:\n",
    "        cv2.imshow(windowName, frame)\n",
    "        if cv2.waitKey(33) == 27: # 33 = 1000/video capture fps # video capture fps = 30\n",
    "            break\n",
    "    else:\n",
    "        break\n",
    "    \n",
    "    \n",
    "cap.release()\n",
    "cv2.destroyAllWindows()"
   ]
  },
  {
   "cell_type": "code",
   "execution_count": null,
   "metadata": {},
   "outputs": [],
   "source": []
  },
  {
   "cell_type": "code",
   "execution_count": null,
   "metadata": {},
   "outputs": [],
   "source": []
  }
 ],
 "metadata": {
  "kernelspec": {
   "display_name": "Python 3",
   "language": "python",
   "name": "python3"
  },
  "language_info": {
   "codemirror_mode": {
    "name": "ipython",
    "version": 3
   },
   "file_extension": ".py",
   "mimetype": "text/x-python",
   "name": "python",
   "nbconvert_exporter": "python",
   "pygments_lexer": "ipython3",
   "version": "3.7.4"
  }
 },
 "nbformat": 4,
 "nbformat_minor": 4
}
