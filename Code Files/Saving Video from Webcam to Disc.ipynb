{
 "cells": [
  {
   "cell_type": "code",
   "execution_count": 15,
   "metadata": {},
   "outputs": [],
   "source": [
    "import cv2\n",
    "\n",
    "cap = cv2.VideoCapture(0)\n",
    "windowName = 'Live Video Feed'\n",
    "cv2.namedWindow(windowName)\n",
    "\n",
    "filename = \"C:\\\\Users\\\\rangr\\\\Desktop\\\\Image Processing\\\\Output\\\\name.avi\"\n",
    "codec = cv2.VideoWriter_fourcc('X','V','I','D') #other codecs are wmv2, h264, divx, mjpg, wmv1 # we can also write (*'XVID')\n",
    "framerate = 30\n",
    "resolution = (640,480) #Be careful to give valid resolution\n",
    "\n",
    "output = cv2.VideoWriter(filename, codec, framerate, resolution)\n",
    "\n",
    "\n",
    "if cap.isOpened():\n",
    "    ret, frame = cap.read()\n",
    "else:\n",
    "    ret = False\n",
    "\n",
    "while ret:\n",
    "    \n",
    "    ret,frame = cap.read()\n",
    "    \n",
    "    output.write(frame)\n",
    "    \n",
    "    cv2.imshow(windowName, frame)\n",
    "    \n",
    "    if cv2.waitKey(1) == 27:\n",
    "        break\n",
    "\n",
    "    \n",
    "    \n",
    "cv2.destroyAllWindows()\n",
    "output.release()\n",
    "cap.release()"
   ]
  },
  {
   "cell_type": "code",
   "execution_count": null,
   "metadata": {},
   "outputs": [],
   "source": []
  }
 ],
 "metadata": {
  "kernelspec": {
   "display_name": "Python 3",
   "language": "python",
   "name": "python3"
  },
  "language_info": {
   "codemirror_mode": {
    "name": "ipython",
    "version": 3
   },
   "file_extension": ".py",
   "mimetype": "text/x-python",
   "name": "python",
   "nbconvert_exporter": "python",
   "pygments_lexer": "ipython3",
   "version": "3.7.4"
  }
 },
 "nbformat": 4,
 "nbformat_minor": 4
}
