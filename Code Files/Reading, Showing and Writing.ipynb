{
 "cells": [
  {
   "cell_type": "code",
   "execution_count": null,
   "metadata": {},
   "outputs": [
    {
     "name": "stdout",
     "output_type": "stream",
     "text": [
      "C:\\Users\\rangr\\Desktop\\Image Processing\\misc\\lena_color_512.tif\n",
      "uint8\n",
      "(512, 512)\n",
      "2\n",
      "262144\n"
     ]
    }
   ],
   "source": [
    "import cv2\n",
    "import numpy as np\n",
    "imgpath = \"C:\\\\Users\\\\rangr\\\\Desktop\\\\Image Processing\\\\misc\\\\lena_color_512.tif\"\n",
    "img = cv2.imread(imgpath,0) #the second argument can be 0,1,-1. 1 is default and is color, 0 is greyscale, -1 is with alpha transparency.\n",
    "\n",
    "# print(img) # [Blue Green Red] between 0-255.  0-black 255-white.\n",
    "print(img.dtype)\n",
    "print(img.shape) #Resolution\n",
    "print(img.ndim)\n",
    "print(img.size)\n",
    "\n",
    "outpath = \"C:\\\\Users\\\\rangr\\\\Desktop\\\\Image Processing\\\\Output\\\\lena_color_512.jpg\"\n",
    "cv2.imwrite(outpath, img)\n",
    "\n",
    "# cv2.namedWindow('Pic2',cv2.WINDOW_AUTOSIZE)\n",
    "cv2.imshow('Lena',img)\n",
    "cv2.waitKey(0)\n",
    "cv2.destroyAllWindows()"
   ]
  }
 ],
 "metadata": {
  "kernelspec": {
   "display_name": "Python 3",
   "language": "python",
   "name": "python3"
  },
  "language_info": {
   "codemirror_mode": {
    "name": "ipython",
    "version": 3
   },
   "file_extension": ".py",
   "mimetype": "text/x-python",
   "name": "python",
   "nbconvert_exporter": "python",
   "pygments_lexer": "ipython3",
   "version": "3.7.4"
  }
 },
 "nbformat": 4,
 "nbformat_minor": 4
}
