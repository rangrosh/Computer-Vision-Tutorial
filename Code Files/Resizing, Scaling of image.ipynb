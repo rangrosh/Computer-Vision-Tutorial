{
 "cells": [
  {
   "cell_type": "code",
   "execution_count": 3,
   "metadata": {},
   "outputs": [],
   "source": [
    "import cv2\n",
    "import matplotlib.pyplot as plt\n",
    "path = \"C:\\\\Users\\\\rangr\\\\Desktop\\\\Image Processing\\\\misc\\\\\"\n",
    "img1p = path + \"4.1.04.tiff\"\n",
    "\n",
    "img1 = cv2.imread(img1p)\n",
    "output = cv2.resize(img1, None, fx = 0.5, fy = 1, interpolation = cv2.INTER_AREA)\n",
    "#INTER_LINEAR\n",
    "# INTER_NEAREST\n",
    "# INTER_AREA - best for shrinking\n",
    "# INTER_CUBIC - best for zooming (interpolation over 4x4 neighborhood)\n",
    "# INTERLANCZOS4 - best for zooming (interpolation over 8x8 neighborhood)\n",
    "cv2.imshow('Output', output)\n",
    "cv2.waitKey(0)\n",
    "cv2.destroyAllWindows()"
   ]
  }
 ],
 "metadata": {
  "kernelspec": {
   "display_name": "Python 3",
   "language": "python",
   "name": "python3"
  },
  "language_info": {
   "codemirror_mode": {
    "name": "ipython",
    "version": 3
   },
   "file_extension": ".py",
   "mimetype": "text/x-python",
   "name": "python",
   "nbconvert_exporter": "python",
   "pygments_lexer": "ipython3",
   "version": "3.7.4"
  }
 },
 "nbformat": 4,
 "nbformat_minor": 4
}
