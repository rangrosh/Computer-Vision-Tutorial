{
 "cells": [
  {
   "cell_type": "code",
   "execution_count": 10,
   "metadata": {},
   "outputs": [],
   "source": [
    "import cv2\n",
    "import numpy as np\n",
    "\n",
    "img = np.zeros((512,512,3),np.uint8)\n",
    "windowName = 'BGR Color Palette'\n",
    "cv2.namedWindow(windowName)\n",
    "\n",
    "def emptyfunction():\n",
    "    pass\n",
    "\n",
    "cv2.createTrackbar('B',windowName, 0, 255, emptyfunction) #label, window, start, stop, function to be called\n",
    "cv2.createTrackbar('G',windowName, 0, 255, emptyfunction)\n",
    "cv2.createTrackbar('R',windowName, 0, 255, emptyfunction)\n",
    "\n",
    "while(True):\n",
    "    cv2.imshow(windowName, img)\n",
    "    if cv2.waitKey(1) == 27:   #escape key ends the window\n",
    "        break\n",
    "        \n",
    "    blue = cv2.getTrackbarPos('B', windowName)\n",
    "    green = cv2.getTrackbarPos('G', windowName)\n",
    "    red = cv2.getTrackbarPos('R', windowName)\n",
    "    \n",
    "    img[:] = [blue,green,red]  #updates values of color of img\n",
    "    \n",
    "    \n",
    "cv2.destroyAllWindows()"
   ]
  },
  {
   "cell_type": "code",
   "execution_count": null,
   "metadata": {},
   "outputs": [],
   "source": []
  }
 ],
 "metadata": {
  "kernelspec": {
   "display_name": "Python 3",
   "language": "python",
   "name": "python3"
  },
  "language_info": {
   "codemirror_mode": {
    "name": "ipython",
    "version": 3
   },
   "file_extension": ".py",
   "mimetype": "text/x-python",
   "name": "python",
   "nbconvert_exporter": "python",
   "pygments_lexer": "ipython3",
   "version": "3.7.4"
  }
 },
 "nbformat": 4,
 "nbformat_minor": 4
}
